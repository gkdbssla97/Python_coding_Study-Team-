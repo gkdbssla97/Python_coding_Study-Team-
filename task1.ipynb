{
  "nbformat": 4,
  "nbformat_minor": 0,
  "metadata": {
    "colab": {
      "name": "task1.ipynb",
      "provenance": [],
      "authorship_tag": "ABX9TyMMEOjE0JumW4iaB+bWpGUp",
      "include_colab_link": true
    },
    "kernelspec": {
      "name": "python3",
      "display_name": "Python 3"
    },
    "language_info": {
      "name": "python"
    }
  },
  "cells": [
    {
      "cell_type": "markdown",
      "metadata": {
        "id": "view-in-github",
        "colab_type": "text"
      },
      "source": [
        "<a href=\"https://colab.research.google.com/github/gkdbssla97/Python_coding_Study-Team-/blob/main/task1.ipynb\" target=\"_parent\"><img src=\"https://colab.research.google.com/assets/colab-badge.svg\" alt=\"Open In Colab\"/></a>"
      ]
    },
    {
      "cell_type": "code",
      "execution_count": 5,
      "metadata": {
        "colab": {
          "base_uri": "https://localhost:8080/"
        },
        "id": "KJjCKgFk21Dz",
        "outputId": "f70ad0b0-810d-4f66-8764-e264925c30ed"
      },
      "outputs": [
        {
          "output_type": "stream",
          "name": "stdout",
          "text": [
            "10\n",
            "9\n",
            "8\n",
            "7\n",
            "6\n",
            "5\n",
            "4\n",
            "3\n",
            "2\n",
            "10\n",
            "1\n"
          ]
        }
      ],
      "source": [
        "list = []\n",
        "for i in range(9):\n",
        "  S = int(input())\n",
        "  list.append(S)\n",
        "max = 0 \n",
        "for i in range(9):\n",
        "  if list[i] > max:\n",
        "    max = list[i]\n",
        "    r= i+1\n",
        "print(max)\n",
        "print(r)"
      ]
    },
    {
      "cell_type": "code",
      "source": [
        "import sys"
      ],
      "metadata": {
        "id": "K_ZgcIjw6uDa"
      },
      "execution_count": 6,
      "outputs": []
    }
  ]
}